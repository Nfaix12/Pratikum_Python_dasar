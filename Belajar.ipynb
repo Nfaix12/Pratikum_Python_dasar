{
 "cells": [
  {
   "cell_type": "code",
   "execution_count": null,
   "id": "a5e752d3",
   "metadata": {},
   "outputs": [
    {
     "data": {
      "text/plain": [
       "float"
      ]
     },
     "execution_count": 11,
     "metadata": {},
     "output_type": "execute_result"
    }
   ],
   "source": [
    "a = 2.4\n",
    "type(a)"
   ]
  },
  {
   "cell_type": "code",
   "execution_count": 32,
   "id": "d397fb8a",
   "metadata": {},
   "outputs": [
    {
     "data": {
      "text/plain": [
       "str"
      ]
     },
     "execution_count": 32,
     "metadata": {},
     "output_type": "execute_result"
    }
   ],
   "source": [
    "b  = \"Nauval\"\n",
    "type(b)"
   ]
  },
  {
   "cell_type": "code",
   "execution_count": 33,
   "id": "45f57e6e",
   "metadata": {},
   "outputs": [
    {
     "data": {
      "text/plain": [
       "int"
      ]
     },
     "execution_count": 33,
     "metadata": {},
     "output_type": "execute_result"
    }
   ],
   "source": [
    "c = 2\n",
    "type(c)"
   ]
  },
  {
   "cell_type": "code",
   "execution_count": 34,
   "id": "0ba58c55",
   "metadata": {},
   "outputs": [
    {
     "data": {
      "text/plain": [
       "list"
      ]
     },
     "execution_count": 34,
     "metadata": {},
     "output_type": "execute_result"
    }
   ],
   "source": [
    "List_d = [1,2,3,4]\n",
    "type(List_d)"
   ]
  },
  {
   "cell_type": "code",
   "execution_count": 50,
   "id": "42dfa36a",
   "metadata": {},
   "outputs": [
    {
     "name": "stdout",
     "output_type": "stream",
     "text": [
      "gula telah ditambahkan ke daftar belanja.\n",
      "kopi telah ditambahkan ke daftar belanja.\n",
      "Permen telah ditambahkan ke daftar belanja.\n",
      "\n",
      "Daftar Belanjaan:\n",
      "- beras\n",
      "- minyak\n",
      "- telur\n",
      "- gula\n",
      "- kopi\n",
      "- Permen\n"
     ]
    }
   ],
   "source": [
    "\n",
    "belanja = [\"beras\", \"minyak\", \"telur\"]\n",
    "\n",
    "def tambah_belanja(item):\n",
    "    belanja.append(item)\n",
    "    print(f\"{item} telah ditambahkan ke daftar belanja.\")\n",
    "\n",
    "\n",
    "tambah_belanja(\"gula\")\n",
    "tambah_belanja(\"kopi\")\n",
    "tambah_belanja(\"Permen\")\n",
    "\n",
    "\n",
    "print(\"\\nDaftar Belanjaan:\")\n",
    "for item in belanja:\n",
    "    print(f\"- {item}\")"
   ]
  },
  {
   "cell_type": "code",
   "execution_count": null,
   "id": "7d379c9b",
   "metadata": {},
   "outputs": [
    {
     "name": "stdout",
     "output_type": "stream",
     "text": [
      "----Daftar Harga Belanjaan---\n",
      "\n",
      "Daftar Harga:\n",
      "Beras: Rp12,000\n",
      "Minyak: Rp17,000\n",
      "Telur: Rp24,000\n",
      "Kopi: Rp15,000\n",
      "Gula: Rp20,000\n",
      "Total Harga: Rp88,000\n"
     ]
    },
    {
     "data": {
      "text/plain": [
       "88000"
      ]
     },
     "execution_count": 31,
     "metadata": {},
     "output_type": "execute_result"
    }
   ],
   "source": [
    "\n",
    "A = \"----Daftar Harga Belanjaan---\"\n",
    "print(A)\n",
    "\n",
    "List_Harga_belanja = {\n",
    "    'Beras': 12000,\n",
    "    'Minyak': 17000,\n",
    "    'Telur': 24000,\n",
    "    'Kopi': 15000,\n",
    "    'Gula': 20000,\n",
    "}\n",
    "\n",
    "\n",
    "print(\"\\nDaftar Harga:\")\n",
    "for barang, harga in List_Harga_belanja.items():\n",
    "    print(f\"{barang}: Rp{harga:,}\")\n",
    "\n",
    "\n",
    "def Hitung(data1, data2, data3, data4, data5):\n",
    "    Harga = data1 + data2 + data3 + data4 + data5\n",
    "    print('Total Harga:', f\"Rp{Harga:,}\")\n",
    "    return Harga\n",
    "\n",
    "\n",
    "Hitung(12000, 17000, 24000, 15000, 20000)"
   ]
  },
  {
   "cell_type": "code",
   "execution_count": 38,
   "id": "cafc64c3",
   "metadata": {},
   "outputs": [
    {
     "name": "stdout",
     "output_type": "stream",
     "text": [
      "Luas: 1256.00\n",
      "Keliling: 125.60\n"
     ]
    }
   ],
   "source": [
    "pi = 3.14\n",
    "\n",
    "def hitung_lingkaran(jari_jari):\n",
    "    luas = pi * jari_jari ** 2\n",
    "    keliling = 2 * pi * jari_jari\n",
    "    return luas, keliling\n",
    "\n",
    "luas, keliling = hitung_lingkaran(20)\n",
    "print(f\"Luas: {luas:.2f}\")\n",
    "print(f\"Keliling: {keliling:.2f}\")"
   ]
  },
  {
   "cell_type": "code",
   "execution_count": 45,
   "id": "8ce4dcf0",
   "metadata": {},
   "outputs": [
    {
     "name": "stdout",
     "output_type": "stream",
     "text": [
      "Kategori: Lansia\n"
     ]
    }
   ],
   "source": [
    "usia = int (input(\"Masukkan usia Anda:\"))\n",
    "\n",
    "if usia >= 0 and usia <= 13:\n",
    "    print(\"Kategori: Anak\")\n",
    "elif usia >= 14 and usia <= 24:\n",
    "    print(\"Kategori: Remaja\")\n",
    "elif usia >= 25 and usia <= 49:\n",
    "    print(\"Kategori: Dewasa\")\n",
    "elif usia >= 50:\n",
    "    print(\"Kategori: Lansia\")\n",
    "else: \n",
    "    print (\"Usia input Tidak falid.\")\n"
   ]
  },
  {
   "cell_type": "code",
   "execution_count": null,
   "id": "f6ee0b87",
   "metadata": {},
   "outputs": [],
   "source": [
    "#Keyword control\n",
    "for i in range(5):\n",
    "    if i == 2:\n",
    "        continue # skip theis loop when i is equal to 2\n",
    "    if i == 4:\n",
    "        break # stops the loop when i is equal to 4\n",
    "    print(i)\n",
    "\n",
    "\n",
    "    # Counter\n",
    "count = 0\n",
    "while count < 1:\n",
    "    print(\"Keep the spirits up interns!\")\n",
    "count += 1"
   ]
  }
 ],
 "metadata": {
  "kernelspec": {
   "display_name": "Python 3",
   "language": "python",
   "name": "python3"
  },
  "language_info": {
   "codemirror_mode": {
    "name": "ipython",
    "version": 3
   },
   "file_extension": ".py",
   "mimetype": "text/x-python",
   "name": "python",
   "nbconvert_exporter": "python",
   "pygments_lexer": "ipython3",
   "version": "3.13.7"
  }
 },
 "nbformat": 4,
 "nbformat_minor": 5
}
