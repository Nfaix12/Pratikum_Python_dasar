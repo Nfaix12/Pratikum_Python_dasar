{
 "cells": [
  {
   "cell_type": "code",
   "execution_count": 3,
   "id": "36771fdd",
   "metadata": {},
   "outputs": [],
   "source": [
    "#--------- Easy Level -----------#"
   ]
  },
  {
   "cell_type": "code",
   "execution_count": 4,
   "id": "3037f4c2",
   "metadata": {},
   "outputs": [
    {
     "name": "stdout",
     "output_type": "stream",
     "text": [
      "The number is Even\n",
      "The number is Odd\n"
     ]
    }
   ],
   "source": [
    "\n",
    "# case 1\n",
    "def check_number(num):\n",
    "    if num % 2 == 0:\n",
    "        return \"Even\"\n",
    "    else:\n",
    "        return \"Odd\"\n",
    "\n",
    "# Test\n",
    "print(f\"The number is {check_number(4)}\") # Expected: Even\n",
    "print(f\"The number is {check_number(7)}\") # Expected: Odd"
   ]
  },
  {
   "cell_type": "code",
   "execution_count": null,
   "id": "ff52fd8a",
   "metadata": {},
   "outputs": [],
   "source": [
    "# case 2\n",
    "def check_number_sign(num):\n",
    "    if num > 0:\n",
    "        return \"Positive\"\n",
    "    elif num < 0:\n",
    "        return \"Negative\"\n",
    "    else:\n",
    "        return \"Zero\"\n",
    "\n",
    "# Test\n",
    "print(f\"The number is {check_number_sign(10)}\") # Expected: Positive\n",
    "print(f\"The number is {check_number_sign(-5)}\") # Expected: Negative\n",
    "print(f\"The number is {check_number_sign(0)}\")  # Expected: Zero"
   ]
  },
  {
   "cell_type": "code",
   "execution_count": 6,
   "id": "fcb07b01",
   "metadata": {},
   "outputs": [],
   "source": [
    "#------ Medium level -------#"
   ]
  },
  {
   "cell_type": "code",
   "execution_count": null,
   "id": "9a1853dd",
   "metadata": {},
   "outputs": [],
   "source": [
    "# case 3\n",
    "def are_anagrams(str1, str2):\n",
    "    # Convert both strings to lowercase and sort their characters\n",
    "    return sorted(str1.lower()) == sorted(str2.lower())\n",
    "\n",
    "# Test\n",
    "print(are_anagrams(\"listen\", \"silent\")) # Expected: True\n",
    "print(are_anagrams(\"hello\", \"world\"))   # Expected: False"
   ]
  },
  {
   "cell_type": "code",
   "execution_count": null,
   "id": "16c5fc24",
   "metadata": {},
   "outputs": [
    {
     "name": "stdout",
     "output_type": "stream",
     "text": [
      "120\n",
      "1\n"
     ]
    }
   ],
   "source": [
    "# case 4\n",
    "def factorial(n):\n",
    "    if n == 0 or n == 1:\n",
    "        return 1\n",
    "    result = 1\n",
    "    for i in range(2, n + 1):\n",
    "        result *= i\n",
    "    return result\n",
    "\n",
    "# Test\n",
    "print(factorial(5)) # Expected: 120\n",
    "print(factorial(0)) # Expected: 1"
   ]
  },
  {
   "cell_type": "code",
   "execution_count": null,
   "id": "f74ea05a",
   "metadata": {},
   "outputs": [],
   "source": [
    "#----------- Hard level ---------#"
   ]
  },
  {
   "cell_type": "code",
   "execution_count": null,
   "id": "1041147d",
   "metadata": {},
   "outputs": [
    {
     "name": "stdout",
     "output_type": "stream",
     "text": [
      "True\n",
      "False\n",
      "True\n"
     ]
    }
   ],
   "source": [
    "# case 5\n",
    "def is_palindrome(s):\n",
    "    return s == s[::-1]\n",
    "\n",
    "# Test\n",
    "print(is_palindrome(\"racecar\")) # Expected: True\n",
    "print(is_palindrome(\"python\"))  # Expected: False\n",
    "print(is_palindrome(\"habibah\")) # Expected: True"
   ]
  },
  {
   "cell_type": "code",
   "execution_count": null,
   "id": "c685c2bd",
   "metadata": {},
   "outputs": [],
   "source": [
    "# case 6\n",
    "def is_armstrong_number(num):\n",
    "    # Convert number to string to iterate over each digit\n",
    "    str_num = str(num)\n",
    "    n = len(str_num)\n",
    "    \n",
    "    # Calculate sum of each digit raised to the power of number of digits\n",
    "    total = sum(int(digit) ** n for digit in str_num)\n",
    "    \n",
    "    # Return whether the total equals the original number\n",
    "    return total == num\n",
    "\n",
    "# Test\n",
    "print(is_armstrong_number(153)) # Expected: True (1^3 + 5^3 + 3^3 = 153)\n",
    "print(is_armstrong_number(370)) # Expected: True (3^3 + 7^3 + 0^3 = 370)\n",
    "print(is_armstrong_number(123)) # Expected: False"
   ]
  },
  {
   "cell_type": "code",
   "execution_count": null,
   "id": "268516ed",
   "metadata": {},
   "outputs": [
    {
     "name": "stdout",
     "output_type": "stream",
     "text": [
      "2\n"
     ]
    }
   ],
   "source": [
    "# ------------ Expert level ---------------#"
   ]
  },
  {
   "cell_type": "code",
   "execution_count": null,
   "id": "ed58b4f4",
   "metadata": {},
   "outputs": [],
   "source": [
    "# case 7\n",
    "class BankAccount:\n",
    "    def __init__(self, name):\n",
    "        self.name = name\n",
    "        self.balance = 0\n",
    "    \n",
    "    def deposit(self, amount):\n",
    "        if amount > 0:\n",
    "            self.balance += amount\n",
    "            return f\"Deposited {amount}. New balance: {self.balance}\"\n",
    "        else:\n",
    "            return \"Invalid deposit amount\"\n",
    "    \n",
    "    def withdraw(self, amount):\n",
    "        if amount <= 0 or amount > self.balance:\n",
    "            return \"Invalid withdrawal amount or insufficient funds\"\n",
    "        else:\n",
    "            self.balance -= amount\n",
    "            return f\"Withdrew {amount}. New balance: {self.balance}\"\n",
    "\n",
    "# Test\n",
    "account = BankAccount(\"Name\")\n",
    "print(account.deposit(1000))  # Expected: Deposited 1000. New balance: 1000\n",
    "print(account.withdraw(500))  # Expected: Withdrew 500. New balance: 500\n",
    "print(account.withdraw(600))  # Expected: Invalid withdrawal amount or insufficient funds"
   ]
  },
  {
   "cell_type": "code",
   "execution_count": 9,
   "id": "74987b28",
   "metadata": {},
   "outputs": [
    {
     "name": "stdout",
     "output_type": "stream",
     "text": [
      "Grade 90 added.\n",
      "Grade 80 added.\n",
      "Grade 70 added.\n",
      "Average grade: 80.0\n"
     ]
    }
   ],
   "source": [
    "# case 8\n",
    "class Student:\n",
    "    def __init__(self, name):\n",
    "        self.name = name\n",
    "        self.grades = []\n",
    "    \n",
    "    def add_grade(self, grade):\n",
    "        self.grades.append(grade)\n",
    "        return f\"Grade {grade} added.\"\n",
    "    \n",
    "    def get_average(self):\n",
    "        if not self.grades:\n",
    "            return \"No grades available\"\n",
    "        average = sum(self.grades) / len(self.grades)\n",
    "        return f\"Average grade: {average}\"\n",
    "\n",
    "# Test\n",
    "student = Student(\"Alice\")\n",
    "print(student.add_grade(90))  # Expected: Grade 90 added.\n",
    "print(student.add_grade(80))  # Expected: Grade 80 added.\n",
    "print(student.add_grade(70))  # Expected: Grade 70 added.\n",
    "print(student.get_average())  # Expected: Average grade: 80.0"
   ]
  }
 ],
 "metadata": {
  "kernelspec": {
   "display_name": "Python 3",
   "language": "python",
   "name": "python3"
  },
  "language_info": {
   "codemirror_mode": {
    "name": "ipython",
    "version": 3
   },
   "file_extension": ".py",
   "mimetype": "text/x-python",
   "name": "python",
   "nbconvert_exporter": "python",
   "pygments_lexer": "ipython3",
   "version": "3.13.7"
  }
 },
 "nbformat": 4,
 "nbformat_minor": 5
}
